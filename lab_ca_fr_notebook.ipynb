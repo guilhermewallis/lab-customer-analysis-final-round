{
 "cells": [
  {
   "cell_type": "code",
   "execution_count": 228,
   "id": "c9fb435f",
   "metadata": {},
   "outputs": [],
   "source": [
    "import numpy as np\n",
    "import pandas as pd\n",
    "\n",
    "import matplotlib as mpl\n",
    "import matplotlib.pyplot as plt\n",
    "\n",
    "import seaborn as sns\n",
    "import seaborn.objects as so\n",
    "\n",
    "from sklearn.linear_model import LinearRegression\n",
    "from sklearn.model_selection import train_test_split\n",
    "from sklearn.preprocessing import OneHotEncoder, Normalizer, StandardScaler, MinMaxScaler\n",
    "from sklearn.metrics import mean_squared_error, r2_score, mean_absolute_error"
   ]
  },
  {
   "cell_type": "markdown",
   "id": "c4073aeb",
   "metadata": {},
   "source": [
    "# 01 - Problem (case study)"
   ]
  },
  {
   "cell_type": "markdown",
   "id": "982e1ee0",
   "metadata": {},
   "source": [
    "## Data Description"
   ]
  },
  {
   "cell_type": "markdown",
   "id": "5ddc1561",
   "metadata": {},
   "source": [
    "This dataset contains customer data from a car insurance company.\n",
    "It contains multiple kinds of information such as:\n",
    "    Personal data - gender, location, education, income, etc\n",
    "    Vehicle data - vehicle size and class\n",
    "    Policy data - monthly premium, policy type, time since last claim, total claim amount, etc"
   ]
  },
  {
   "cell_type": "markdown",
   "id": "ffae7256",
   "metadata": {},
   "source": [
    "## Goal"
   ]
  },
  {
   "cell_type": "markdown",
   "id": "98bea7cb",
   "metadata": {},
   "source": [
    "The goal of this study is to develop a model that best predicts the total amount a new customer will claim on their insurance policy.\n",
    "This model will have as a target the Total Claim Amount column on the dataset, which contains the claimed amount for all the already insured customers.\n",
    "To achieve this, the model will take in the several different features contained in the dataset."
   ]
  },
  {
   "cell_type": "markdown",
   "id": "249a5c49",
   "metadata": {},
   "source": [
    "# 02 - Getting Data"
   ]
  },
  {
   "cell_type": "markdown",
   "id": "19ed2c33",
   "metadata": {},
   "source": [
    "## Read the .csv file"
   ]
  },
  {
   "cell_type": "code",
   "execution_count": 197,
   "id": "d486625c",
   "metadata": {},
   "outputs": [
    {
     "name": "stdout",
     "output_type": "stream",
     "text": [
      "<class 'pandas.core.frame.DataFrame'>\n",
      "RangeIndex: 9134 entries, 0 to 9133\n",
      "Data columns (total 24 columns):\n",
      " #   Column                         Non-Null Count  Dtype  \n",
      "---  ------                         --------------  -----  \n",
      " 0   Customer                       9134 non-null   object \n",
      " 1   State                          9134 non-null   object \n",
      " 2   Customer Lifetime Value        9134 non-null   float64\n",
      " 3   Response                       9134 non-null   object \n",
      " 4   Coverage                       9134 non-null   object \n",
      " 5   Education                      9134 non-null   object \n",
      " 6   Effective To Date              9134 non-null   object \n",
      " 7   EmploymentStatus               9134 non-null   object \n",
      " 8   Gender                         9134 non-null   object \n",
      " 9   Income                         9134 non-null   int64  \n",
      " 10  Location Code                  9134 non-null   object \n",
      " 11  Marital Status                 9134 non-null   object \n",
      " 12  Monthly Premium Auto           9134 non-null   int64  \n",
      " 13  Months Since Last Claim        9134 non-null   int64  \n",
      " 14  Months Since Policy Inception  9134 non-null   int64  \n",
      " 15  Number of Open Complaints      9134 non-null   int64  \n",
      " 16  Number of Policies             9134 non-null   int64  \n",
      " 17  Policy Type                    9134 non-null   object \n",
      " 18  Policy                         9134 non-null   object \n",
      " 19  Renew Offer Type               9134 non-null   object \n",
      " 20  Sales Channel                  9134 non-null   object \n",
      " 21  Total Claim Amount             9134 non-null   float64\n",
      " 22  Vehicle Class                  9134 non-null   object \n",
      " 23  Vehicle Size                   9134 non-null   object \n",
      "dtypes: float64(2), int64(6), object(16)\n",
      "memory usage: 1.7+ MB\n"
     ]
    }
   ],
   "source": [
    "data = pd.read_csv('files_for_lab/csv_files/marketing_customer_analysis.csv')\n",
    "data.info()"
   ]
  },
  {
   "cell_type": "markdown",
   "id": "379036a8",
   "metadata": {},
   "source": [
    "# 03 - Cleaning/Wrangling/EDA"
   ]
  },
  {
   "cell_type": "markdown",
   "id": "212ebbad",
   "metadata": {},
   "source": [
    "## Change headers names"
   ]
  },
  {
   "cell_type": "code",
   "execution_count": 198,
   "id": "31b73f55",
   "metadata": {},
   "outputs": [
    {
     "data": {
      "text/plain": [
       "Index(['customer', 'state', 'customer_lifetime_value', 'response', 'coverage',\n",
       "       'education', 'effective_to_date', 'employmentstatus', 'gender',\n",
       "       'income', 'location_code', 'marital_status', 'monthly_premium_auto',\n",
       "       'months_since_last_claim', 'months_since_policy_inception',\n",
       "       'number_of_open_complaints', 'number_of_policies', 'policy_type',\n",
       "       'policy', 'renew_offer_type', 'sales_channel', 'total_claim_amount',\n",
       "       'vehicle_class', 'vehicle_size'],\n",
       "      dtype='object')"
      ]
     },
     "execution_count": 198,
     "metadata": {},
     "output_type": "execute_result"
    }
   ],
   "source": [
    "data.columns = data.columns.str.lower().str.replace(' ', '_')\n",
    "data.columns"
   ]
  },
  {
   "cell_type": "markdown",
   "id": "5d90daf7",
   "metadata": {},
   "source": [
    "## Deal with NaN values"
   ]
  },
  {
   "cell_type": "code",
   "execution_count": 199,
   "id": "a50911f1",
   "metadata": {},
   "outputs": [
    {
     "name": "stdout",
     "output_type": "stream",
     "text": [
      "customer                         0\n",
      "state                            0\n",
      "customer_lifetime_value          0\n",
      "response                         0\n",
      "coverage                         0\n",
      "education                        0\n",
      "effective_to_date                0\n",
      "employmentstatus                 0\n",
      "gender                           0\n",
      "income                           0\n",
      "location_code                    0\n",
      "marital_status                   0\n",
      "monthly_premium_auto             0\n",
      "months_since_last_claim          0\n",
      "months_since_policy_inception    0\n",
      "number_of_open_complaints        0\n",
      "number_of_policies               0\n",
      "policy_type                      0\n",
      "policy                           0\n",
      "renew_offer_type                 0\n",
      "sales_channel                    0\n",
      "total_claim_amount               0\n",
      "vehicle_class                    0\n",
      "vehicle_size                     0\n",
      "dtype: int64\n"
     ]
    }
   ],
   "source": [
    "print(data.isna().sum())"
   ]
  },
  {
   "cell_type": "markdown",
   "id": "a5df8f40",
   "metadata": {},
   "source": [
    "## Categorical Features"
   ]
  },
  {
   "cell_type": "code",
   "execution_count": 200,
   "id": "0ca30e7c",
   "metadata": {},
   "outputs": [
    {
     "name": "stdout",
     "output_type": "stream",
     "text": [
      "<class 'pandas.core.frame.DataFrame'>\n",
      "RangeIndex: 9134 entries, 0 to 9133\n",
      "Data columns (total 16 columns):\n",
      " #   Column             Non-Null Count  Dtype \n",
      "---  ------             --------------  ----- \n",
      " 0   customer           9134 non-null   object\n",
      " 1   state              9134 non-null   object\n",
      " 2   response           9134 non-null   object\n",
      " 3   coverage           9134 non-null   object\n",
      " 4   education          9134 non-null   object\n",
      " 5   effective_to_date  9134 non-null   object\n",
      " 6   employmentstatus   9134 non-null   object\n",
      " 7   gender             9134 non-null   object\n",
      " 8   location_code      9134 non-null   object\n",
      " 9   marital_status     9134 non-null   object\n",
      " 10  policy_type        9134 non-null   object\n",
      " 11  policy             9134 non-null   object\n",
      " 12  renew_offer_type   9134 non-null   object\n",
      " 13  sales_channel      9134 non-null   object\n",
      " 14  vehicle_class      9134 non-null   object\n",
      " 15  vehicle_size       9134 non-null   object\n",
      "dtypes: object(16)\n",
      "memory usage: 1.1+ MB\n"
     ]
    }
   ],
   "source": [
    "data_cat = data.select_dtypes('object')\n",
    "data_cat.info()"
   ]
  },
  {
   "cell_type": "markdown",
   "id": "83c98878",
   "metadata": {},
   "source": [
    "## Numerical Features"
   ]
  },
  {
   "cell_type": "code",
   "execution_count": 201,
   "id": "294f1698",
   "metadata": {},
   "outputs": [
    {
     "name": "stdout",
     "output_type": "stream",
     "text": [
      "<class 'pandas.core.frame.DataFrame'>\n",
      "RangeIndex: 9134 entries, 0 to 9133\n",
      "Data columns (total 8 columns):\n",
      " #   Column                         Non-Null Count  Dtype  \n",
      "---  ------                         --------------  -----  \n",
      " 0   customer_lifetime_value        9134 non-null   float64\n",
      " 1   income                         9134 non-null   int64  \n",
      " 2   monthly_premium_auto           9134 non-null   int64  \n",
      " 3   months_since_last_claim        9134 non-null   int64  \n",
      " 4   months_since_policy_inception  9134 non-null   int64  \n",
      " 5   number_of_open_complaints      9134 non-null   int64  \n",
      " 6   number_of_policies             9134 non-null   int64  \n",
      " 7   total_claim_amount             9134 non-null   float64\n",
      "dtypes: float64(2), int64(6)\n",
      "memory usage: 571.0 KB\n"
     ]
    }
   ],
   "source": [
    "data_num = data.select_dtypes(np.number)\n",
    "data_num.info()"
   ]
  },
  {
   "cell_type": "markdown",
   "id": "abce271f",
   "metadata": {},
   "source": [
    "## Exploration"
   ]
  },
  {
   "cell_type": "code",
   "execution_count": 202,
   "id": "2e77060d",
   "metadata": {
    "scrolled": true
   },
   "outputs": [
    {
     "name": "stdout",
     "output_type": "stream",
     "text": [
      "customer \n",
      " BU79786    1\n",
      "PU81096    1\n",
      "CO75086    1\n",
      "WW52683    1\n",
      "XO38850    1\n",
      "          ..\n",
      "HS14476    1\n",
      "YL91587    1\n",
      "CT18212    1\n",
      "EW35231    1\n",
      "Y167826    1\n",
      "Name: customer, Length: 9134, dtype: int64 \n",
      "\n",
      "state \n",
      " California    3150\n",
      "Oregon        2601\n",
      "Arizona       1703\n",
      "Nevada         882\n",
      "Washington     798\n",
      "Name: state, dtype: int64 \n",
      "\n",
      "response \n",
      " No     7826\n",
      "Yes    1308\n",
      "Name: response, dtype: int64 \n",
      "\n",
      "coverage \n",
      " Basic       5568\n",
      "Extended    2742\n",
      "Premium      824\n",
      "Name: coverage, dtype: int64 \n",
      "\n",
      "education \n",
      " Bachelor                2748\n",
      "College                 2681\n",
      "High School or Below    2622\n",
      "Master                   741\n",
      "Doctor                   342\n",
      "Name: education, dtype: int64 \n",
      "\n",
      "effective_to_date \n",
      " 1/10/11    195\n",
      "1/27/11    194\n",
      "2/14/11    186\n",
      "1/26/11    181\n",
      "1/17/11    180\n",
      "1/19/11    179\n",
      "1/31/11    178\n",
      "1/3/11     178\n",
      "1/20/11    173\n",
      "2/26/11    169\n",
      "1/28/11    169\n",
      "2/19/11    168\n",
      "1/5/11     167\n",
      "2/27/11    167\n",
      "1/11/11    166\n",
      "2/4/11     164\n",
      "2/10/11    161\n",
      "2/28/11    161\n",
      "1/2/11     160\n",
      "1/21/11    160\n",
      "1/29/11    160\n",
      "2/22/11    158\n",
      "2/5/11     158\n",
      "2/3/11     158\n",
      "2/7/11     157\n",
      "2/12/11    156\n",
      "1/23/11    155\n",
      "2/1/11     154\n",
      "1/18/11    154\n",
      "1/15/11    153\n",
      "1/14/11    152\n",
      "2/11/11    151\n",
      "1/7/11     151\n",
      "1/25/11    151\n",
      "2/25/11    149\n",
      "1/8/11     149\n",
      "2/18/11    149\n",
      "2/2/11     149\n",
      "1/1/11     148\n",
      "2/21/11    148\n",
      "1/24/11    147\n",
      "1/9/11     146\n",
      "1/30/11    145\n",
      "1/13/11    145\n",
      "2/6/11     144\n",
      "1/6/11     143\n",
      "2/23/11    143\n",
      "1/16/11    142\n",
      "2/16/11    139\n",
      "2/13/11    139\n",
      "2/24/11    139\n",
      "2/9/11     137\n",
      "2/17/11    136\n",
      "1/22/11    136\n",
      "2/8/11     134\n",
      "2/20/11    132\n",
      "2/15/11    130\n",
      "1/12/11    126\n",
      "1/4/11     115\n",
      "Name: effective_to_date, dtype: int64 \n",
      "\n",
      "employmentstatus \n",
      " Employed         5698\n",
      "Unemployed       2317\n",
      "Medical Leave     432\n",
      "Disabled          405\n",
      "Retired           282\n",
      "Name: employmentstatus, dtype: int64 \n",
      "\n",
      "gender \n",
      " F    4658\n",
      "M    4476\n",
      "Name: gender, dtype: int64 \n",
      "\n",
      "location_code \n",
      " Suburban    5779\n",
      "Rural       1773\n",
      "Urban       1582\n",
      "Name: location_code, dtype: int64 \n",
      "\n",
      "marital_status \n",
      " Married     5298\n",
      "Single      2467\n",
      "Divorced    1369\n",
      "Name: marital_status, dtype: int64 \n",
      "\n",
      "policy_type \n",
      " Personal Auto     6788\n",
      "Corporate Auto    1968\n",
      "Special Auto       378\n",
      "Name: policy_type, dtype: int64 \n",
      "\n",
      "policy \n",
      " Personal L3     3426\n",
      "Personal L2     2122\n",
      "Personal L1     1240\n",
      "Corporate L3    1014\n",
      "Corporate L2     595\n",
      "Corporate L1     359\n",
      "Special L2       164\n",
      "Special L3       148\n",
      "Special L1        66\n",
      "Name: policy, dtype: int64 \n",
      "\n",
      "renew_offer_type \n",
      " Offer1    3752\n",
      "Offer2    2926\n",
      "Offer3    1432\n",
      "Offer4    1024\n",
      "Name: renew_offer_type, dtype: int64 \n",
      "\n",
      "sales_channel \n",
      " Agent          3477\n",
      "Branch         2567\n",
      "Call Center    1765\n",
      "Web            1325\n",
      "Name: sales_channel, dtype: int64 \n",
      "\n",
      "vehicle_class \n",
      " Four-Door Car    4621\n",
      "Two-Door Car     1886\n",
      "SUV              1796\n",
      "Sports Car        484\n",
      "Luxury SUV        184\n",
      "Luxury Car        163\n",
      "Name: vehicle_class, dtype: int64 \n",
      "\n",
      "vehicle_size \n",
      " Medsize    6424\n",
      "Small      1764\n",
      "Large       946\n",
      "Name: vehicle_size, dtype: int64 \n",
      "\n"
     ]
    }
   ],
   "source": [
    "for col in data_cat.columns:\n",
    "    print(col,'\\n', data_cat[col].value_counts(),'\\n')"
   ]
  },
  {
   "cell_type": "markdown",
   "id": "2229dc3d",
   "metadata": {},
   "source": [
    "#### As seen above:\n",
    "\n",
    "   The first column on the dataset contains an ID string for each customer, which is irrelevant for the model.\n",
    "\n",
    "   The column 'effective_to_date' contains a very small range of dates, from January to February of 2011, which does not provide much revelant information for the model.\n",
    "   \n",
    "   The column 'policy' contains subcategories of the values in 'policy_type', dividing them into 3 levels each. It will be best to manipulate these columns to reduce the change of multicollinearity."
   ]
  },
  {
   "cell_type": "code",
   "execution_count": 203,
   "id": "3e0a4a9f",
   "metadata": {},
   "outputs": [
    {
     "name": "stdout",
     "output_type": "stream",
     "text": [
      "customer_lifetime_value\n"
     ]
    },
    {
     "data": {
      "image/png": "[encoded data removed]",
      "text/plain": [
       "<Figure size 640x480 with 1 Axes>"
      ]
     },
     "metadata": {},
     "output_type": "display_data"
    },
    {
     "name": "stdout",
     "output_type": "stream",
     "text": [
      "income\n"
     ]
    },
    {
     "data": {
      "image/png": "[encoded data removed]",
      "text/plain": [
       "<Figure size 640x480 with 1 Axes>"
      ]
     },
     "metadata": {},
     "output_type": "display_data"
    },
    {
     "name": "stdout",
     "output_type": "stream",
     "text": [
      "monthly_premium_auto\n"
     ]
    },
    {
     "data": {
      "image/png": "[encoded data removed]",
      "text/plain": [
       "<Figure size 640x480 with 1 Axes>"
      ]
     },
     "metadata": {},
     "output_type": "display_data"
    },
    {
     "name": "stdout",
     "output_type": "stream",
     "text": [
      "months_since_last_claim\n"
     ]
    },
    {
     "data": {
      "image/png": "[encoded data removed]",
      "text/plain": [
       "<Figure size 640x480 with 1 Axes>"
      ]
     },
     "metadata": {},
     "output_type": "display_data"
    },
    {
     "name": "stdout",
     "output_type": "stream",
     "text": [
      "months_since_policy_inception\n"
     ]
    },
    {
     "data": {
      "image/png": "[encoded data removed]",
      "text/plain": [
       "<Figure size 640x480 with 1 Axes>"
      ]
     },
     "metadata": {},
     "output_type": "display_data"
    },
    {
     "name": "stdout",
     "output_type": "stream",
     "text": [
      "number_of_open_complaints\n"
     ]
    },
    {
     "data": {
      "image/png": "[encoded data removed]",
      "text/plain": [
       "<Figure size 640x480 with 1 Axes>"
      ]
     },
     "metadata": {},
     "output_type": "display_data"
    },
    {
     "name": "stdout",
     "output_type": "stream",
     "text": [
      "number_of_policies\n"
     ]
    },
    {
     "data": {
      "image/png": "[encoded data removed]",
      "text/plain": [
       "<Figure size 640x480 with 1 Axes>"
      ]
     },
     "metadata": {},
     "output_type": "display_data"
    },
    {
     "name": "stdout",
     "output_type": "stream",
     "text": [
      "total_claim_amount\n"
     ]
    },
    {
     "data": {
      "image/png": "[encoded data removed]",
      "text/plain": [
       "<Figure size 640x480 with 1 Axes>"
      ]
     },
     "metadata": {},
     "output_type": "display_data"
    }
   ],
   "source": [
    "for col in data_num.columns:\n",
    "  print(col)\n",
    "  sns.histplot(data_num[col], kde=True)\n",
    "  plt.show()"
   ]
  },
  {
   "cell_type": "markdown",
   "id": "952908a6",
   "metadata": {},
   "source": [
    "#### As seen above:\n",
    "\n",
    "   Most numerical columns follow a normal distribution, with a skew to the positive side, which makes sense when dealing with monetary values.\n",
    "   \n",
    "   The exception being time based columns, 'months_since_policy_inception' and 'months_since_last_claim'"
   ]
  },
  {
   "cell_type": "code",
   "execution_count": 204,
   "id": "2e5e5e35",
   "metadata": {},
   "outputs": [
    {
     "data": {
      "text/html": [
       "<div>\n",
       "<style scoped>\n",
       "    .dataframe tbody tr th:only-of-type {\n",
       "        vertical-align: middle;\n",
       "    }\n",
       "\n",
       "    .dataframe tbody tr th {\n",
       "        vertical-align: top;\n",
       "    }\n",
       "\n",
       "    .dataframe thead th {\n",
       "        text-align: right;\n",
       "    }\n",
       "</style>\n",
       "<table border=\"1\" class=\"dataframe\">\n",
       "  <thead>\n",
       "    <tr style=\"text-align: right;\">\n",
       "      <th></th>\n",
       "      <th>customer_lifetime_value</th>\n",
       "      <th>income</th>\n",
       "      <th>monthly_premium_auto</th>\n",
       "      <th>months_since_last_claim</th>\n",
       "      <th>months_since_policy_inception</th>\n",
       "      <th>number_of_open_complaints</th>\n",
       "      <th>number_of_policies</th>\n",
       "      <th>total_claim_amount</th>\n",
       "    </tr>\n",
       "  </thead>\n",
       "  <tbody>\n",
       "    <tr>\n",
       "      <th>customer_lifetime_value</th>\n",
       "      <td>1.000000</td>\n",
       "      <td>0.024366</td>\n",
       "      <td>0.396262</td>\n",
       "      <td>0.011517</td>\n",
       "      <td>0.009418</td>\n",
       "      <td>-0.036343</td>\n",
       "      <td>0.021955</td>\n",
       "      <td>0.226451</td>\n",
       "    </tr>\n",
       "    <tr>\n",
       "      <th>income</th>\n",
       "      <td>0.024366</td>\n",
       "      <td>1.000000</td>\n",
       "      <td>-0.016665</td>\n",
       "      <td>-0.026715</td>\n",
       "      <td>-0.000875</td>\n",
       "      <td>0.006408</td>\n",
       "      <td>-0.008656</td>\n",
       "      <td>-0.355254</td>\n",
       "    </tr>\n",
       "    <tr>\n",
       "      <th>monthly_premium_auto</th>\n",
       "      <td>0.396262</td>\n",
       "      <td>-0.016665</td>\n",
       "      <td>1.000000</td>\n",
       "      <td>0.005026</td>\n",
       "      <td>0.020257</td>\n",
       "      <td>-0.013122</td>\n",
       "      <td>-0.011233</td>\n",
       "      <td>0.632017</td>\n",
       "    </tr>\n",
       "    <tr>\n",
       "      <th>months_since_last_claim</th>\n",
       "      <td>0.011517</td>\n",
       "      <td>-0.026715</td>\n",
       "      <td>0.005026</td>\n",
       "      <td>1.000000</td>\n",
       "      <td>-0.042959</td>\n",
       "      <td>0.005354</td>\n",
       "      <td>0.009136</td>\n",
       "      <td>0.007563</td>\n",
       "    </tr>\n",
       "    <tr>\n",
       "      <th>months_since_policy_inception</th>\n",
       "      <td>0.009418</td>\n",
       "      <td>-0.000875</td>\n",
       "      <td>0.020257</td>\n",
       "      <td>-0.042959</td>\n",
       "      <td>1.000000</td>\n",
       "      <td>-0.001158</td>\n",
       "      <td>-0.013333</td>\n",
       "      <td>0.003335</td>\n",
       "    </tr>\n",
       "    <tr>\n",
       "      <th>number_of_open_complaints</th>\n",
       "      <td>-0.036343</td>\n",
       "      <td>0.006408</td>\n",
       "      <td>-0.013122</td>\n",
       "      <td>0.005354</td>\n",
       "      <td>-0.001158</td>\n",
       "      <td>1.000000</td>\n",
       "      <td>0.001498</td>\n",
       "      <td>-0.014241</td>\n",
       "    </tr>\n",
       "    <tr>\n",
       "      <th>number_of_policies</th>\n",
       "      <td>0.021955</td>\n",
       "      <td>-0.008656</td>\n",
       "      <td>-0.011233</td>\n",
       "      <td>0.009136</td>\n",
       "      <td>-0.013333</td>\n",
       "      <td>0.001498</td>\n",
       "      <td>1.000000</td>\n",
       "      <td>-0.002354</td>\n",
       "    </tr>\n",
       "    <tr>\n",
       "      <th>total_claim_amount</th>\n",
       "      <td>0.226451</td>\n",
       "      <td>-0.355254</td>\n",
       "      <td>0.632017</td>\n",
       "      <td>0.007563</td>\n",
       "      <td>0.003335</td>\n",
       "      <td>-0.014241</td>\n",
       "      <td>-0.002354</td>\n",
       "      <td>1.000000</td>\n",
       "    </tr>\n",
       "  </tbody>\n",
       "</table>\n",
       "</div>"
      ],
      "text/plain": [
       "                               customer_lifetime_value    income  \\\n",
       "customer_lifetime_value                       1.000000  0.024366   \n",
       "income                                        0.024366  1.000000   \n",
       "monthly_premium_auto                          0.396262 -0.016665   \n",
       "months_since_last_claim                       0.011517 -0.026715   \n",
       "months_since_policy_inception                 0.009418 -0.000875   \n",
       "number_of_open_complaints                    -0.036343  0.006408   \n",
       "number_of_policies                            0.021955 -0.008656   \n",
       "total_claim_amount                            0.226451 -0.355254   \n",
       "\n",
       "                               monthly_premium_auto  months_since_last_claim  \\\n",
       "customer_lifetime_value                    0.396262                 0.011517   \n",
       "income                                    -0.016665                -0.026715   \n",
       "monthly_premium_auto                       1.000000                 0.005026   \n",
       "months_since_last_claim                    0.005026                 1.000000   \n",
       "months_since_policy_inception              0.020257                -0.042959   \n",
       "number_of_open_complaints                 -0.013122                 0.005354   \n",
       "number_of_policies                        -0.011233                 0.009136   \n",
       "total_claim_amount                         0.632017                 0.007563   \n",
       "\n",
       "                               months_since_policy_inception  \\\n",
       "customer_lifetime_value                             0.009418   \n",
       "income                                             -0.000875   \n",
       "monthly_premium_auto                                0.020257   \n",
       "months_since_last_claim                            -0.042959   \n",
       "months_since_policy_inception                       1.000000   \n",
       "number_of_open_complaints                          -0.001158   \n",
       "number_of_policies                                 -0.013333   \n",
       "total_claim_amount                                  0.003335   \n",
       "\n",
       "                               number_of_open_complaints  number_of_policies  \\\n",
       "customer_lifetime_value                        -0.036343            0.021955   \n",
       "income                                          0.006408           -0.008656   \n",
       "monthly_premium_auto                           -0.013122           -0.011233   \n",
       "months_since_last_claim                         0.005354            0.009136   \n",
       "months_since_policy_inception                  -0.001158           -0.013333   \n",
       "number_of_open_complaints                       1.000000            0.001498   \n",
       "number_of_policies                              0.001498            1.000000   \n",
       "total_claim_amount                             -0.014241           -0.002354   \n",
       "\n",
       "                               total_claim_amount  \n",
       "customer_lifetime_value                  0.226451  \n",
       "income                                  -0.355254  \n",
       "monthly_premium_auto                     0.632017  \n",
       "months_since_last_claim                  0.007563  \n",
       "months_since_policy_inception            0.003335  \n",
       "number_of_open_complaints               -0.014241  \n",
       "number_of_policies                      -0.002354  \n",
       "total_claim_amount                       1.000000  "
      ]
     },
     "execution_count": 204,
     "metadata": {},
     "output_type": "execute_result"
    }
   ],
   "source": [
    "corr_matrix = data_num.corr()\n",
    "corr_matrix"
   ]
  },
  {
   "cell_type": "code",
   "execution_count": 205,
   "id": "5c62b513",
   "metadata": {},
   "outputs": [
    {
     "data": {
      "image/png": "[encoded data removed]",
      "text/plain": [
       "<Figure size 800x600 with 2 Axes>"
      ]
     },
     "metadata": {},
     "output_type": "display_data"
    }
   ],
   "source": [
    "mask = np.zeros_like(corr_matrix)\n",
    "mask[np.triu_indices_from(mask)] = True\n",
    "\n",
    "fig, ax = plt.subplots(figsize=(8, 6))\n",
    "ax = sns.heatmap(corr_matrix, mask=mask, annot=True)\n",
    "plt.show()"
   ]
  },
  {
   "cell_type": "markdown",
   "id": "a86ca7e0",
   "metadata": {},
   "source": [
    "#### As seen above:\n",
    "\n",
    "The dataset has features that do not show any high level of correlation amongst themselves, but also do not show any high correlation with the target."
   ]
  },
  {
   "cell_type": "markdown",
   "id": "cbc41908",
   "metadata": {},
   "source": [
    "# 04 - Processing Data"
   ]
  },
  {
   "cell_type": "markdown",
   "id": "1bd63292",
   "metadata": {},
   "source": [
    "Dropping the two columns that were found to contain irrelevant information for the model.\n",
    "\n",
    "Extracting and keeping only the subcategory 'numerical part' on the 'policy' column, which will not cause any data loss, and will help reduce multicollinearity after enconding"
   ]
  },
  {
   "cell_type": "code",
   "execution_count": 206,
   "id": "5acf18a6",
   "metadata": {},
   "outputs": [
    {
     "data": {
      "text/plain": [
       "3    4588\n",
       "2    2881\n",
       "1    1665\n",
       "Name: policy, dtype: int64"
      ]
     },
     "execution_count": 206,
     "metadata": {},
     "output_type": "execute_result"
    }
   ],
   "source": [
    "data.drop(['effective_to_date', 'customer'], axis=1, inplace=True)\n",
    "data['policy'] = data['policy'].str[-1]\n",
    "data['policy'].value_counts()"
   ]
  },
  {
   "cell_type": "markdown",
   "id": "8a08db0f",
   "metadata": {},
   "source": [
    "## Dealing with outliers"
   ]
  },
  {
   "cell_type": "markdown",
   "id": "3509a942",
   "metadata": {},
   "source": [
    "As the outliers on the dataset were shown to be positive only, only the upper IQR is necessary to apply the filter"
   ]
  },
  {
   "cell_type": "code",
   "execution_count": 207,
   "id": "212bb0b3",
   "metadata": {},
   "outputs": [
    {
     "data": {
      "text/plain": [
       "8681"
      ]
     },
     "execution_count": 207,
     "metadata": {},
     "output_type": "execute_result"
    }
   ],
   "source": [
    "Q3 = np.quantile(data[\"total_claim_amount\"], 0.75)\n",
    "Q1 = np.quantile(data[\"total_claim_amount\"], 0.25)\n",
    "IQR = Q3 - Q1\n",
    "upper_range = Q3 + 1.5 * IQR\n",
    "\n",
    "data_no = data[data[\"total_claim_amount\"] < upper_range].copy()\n",
    "data_no.reset_index(drop=True, inplace=True)\n",
    "len(data_no.index)"
   ]
  },
  {
   "cell_type": "markdown",
   "id": "f663f325",
   "metadata": {},
   "source": [
    "## Normalization"
   ]
  },
  {
   "cell_type": "code",
   "execution_count": 208,
   "id": "75648f96",
   "metadata": {},
   "outputs": [],
   "source": [
    "x = data_no.drop(['total_claim_amount'], axis=1)\n",
    "y = data_no['total_claim_amount']"
   ]
  },
  {
   "cell_type": "code",
   "execution_count": 209,
   "id": "33512b8e",
   "metadata": {},
   "outputs": [
    {
     "data": {
      "text/html": [
       "<div>\n",
       "<style scoped>\n",
       "    .dataframe tbody tr th:only-of-type {\n",
       "        vertical-align: middle;\n",
       "    }\n",
       "\n",
       "    .dataframe tbody tr th {\n",
       "        vertical-align: top;\n",
       "    }\n",
       "\n",
       "    .dataframe thead th {\n",
       "        text-align: right;\n",
       "    }\n",
       "</style>\n",
       "<table border=\"1\" class=\"dataframe\">\n",
       "  <thead>\n",
       "    <tr style=\"text-align: right;\">\n",
       "      <th></th>\n",
       "      <th>customer_lifetime_value</th>\n",
       "      <th>income</th>\n",
       "      <th>monthly_premium_auto</th>\n",
       "      <th>months_since_last_claim</th>\n",
       "      <th>months_since_policy_inception</th>\n",
       "      <th>number_of_open_complaints</th>\n",
       "      <th>number_of_policies</th>\n",
       "    </tr>\n",
       "  </thead>\n",
       "  <tbody>\n",
       "    <tr>\n",
       "      <th>0</th>\n",
       "      <td>-0.772891</td>\n",
       "      <td>0.580587</td>\n",
       "      <td>-0.739390</td>\n",
       "      <td>1.684444</td>\n",
       "      <td>-1.542542</td>\n",
       "      <td>-0.422343</td>\n",
       "      <td>-0.821923</td>\n",
       "    </tr>\n",
       "    <tr>\n",
       "      <th>1</th>\n",
       "      <td>0.814984</td>\n",
       "      <td>0.332987</td>\n",
       "      <td>0.700041</td>\n",
       "      <td>0.294401</td>\n",
       "      <td>-0.357794</td>\n",
       "      <td>-0.422343</td>\n",
       "      <td>-0.402260</td>\n",
       "    </tr>\n",
       "    <tr>\n",
       "      <th>2</th>\n",
       "      <td>-0.007125</td>\n",
       "      <td>-1.275476</td>\n",
       "      <td>0.626224</td>\n",
       "      <td>0.294401</td>\n",
       "      <td>0.611544</td>\n",
       "      <td>-0.422343</td>\n",
       "      <td>1.696056</td>\n",
       "    </tr>\n",
       "    <tr>\n",
       "      <th>3</th>\n",
       "      <td>-0.765022</td>\n",
       "      <td>0.170350</td>\n",
       "      <td>-0.591756</td>\n",
       "      <td>-0.301332</td>\n",
       "      <td>-0.142386</td>\n",
       "      <td>-0.422343</td>\n",
       "      <td>-0.821923</td>\n",
       "    </tr>\n",
       "    <tr>\n",
       "      <th>4</th>\n",
       "      <td>0.088618</td>\n",
       "      <td>0.799196</td>\n",
       "      <td>-0.739390</td>\n",
       "      <td>-0.102754</td>\n",
       "      <td>1.652686</td>\n",
       "      <td>-0.422343</td>\n",
       "      <td>-0.402260</td>\n",
       "    </tr>\n",
       "    <tr>\n",
       "      <th>...</th>\n",
       "      <td>...</td>\n",
       "      <td>...</td>\n",
       "      <td>...</td>\n",
       "      <td>...</td>\n",
       "      <td>...</td>\n",
       "      <td>...</td>\n",
       "      <td>...</td>\n",
       "    </tr>\n",
       "    <tr>\n",
       "      <th>8676</th>\n",
       "      <td>2.464757</td>\n",
       "      <td>1.097326</td>\n",
       "      <td>-0.591756</td>\n",
       "      <td>0.294401</td>\n",
       "      <td>1.473179</td>\n",
       "      <td>-0.422343</td>\n",
       "      <td>-0.402260</td>\n",
       "    </tr>\n",
       "    <tr>\n",
       "      <th>8677</th>\n",
       "      <td>-0.720663</td>\n",
       "      <td>-0.562920</td>\n",
       "      <td>-0.370305</td>\n",
       "      <td>-0.102754</td>\n",
       "      <td>-0.716809</td>\n",
       "      <td>-0.422343</td>\n",
       "      <td>-0.821923</td>\n",
       "    </tr>\n",
       "    <tr>\n",
       "      <th>8678</th>\n",
       "      <td>0.074125</td>\n",
       "      <td>-1.275476</td>\n",
       "      <td>-0.148854</td>\n",
       "      <td>-0.599198</td>\n",
       "      <td>-0.393696</td>\n",
       "      <td>2.863906</td>\n",
       "      <td>-0.402260</td>\n",
       "    </tr>\n",
       "    <tr>\n",
       "      <th>8679</th>\n",
       "      <td>-0.026169</td>\n",
       "      <td>-0.551805</td>\n",
       "      <td>0.257139</td>\n",
       "      <td>1.883022</td>\n",
       "      <td>-1.614344</td>\n",
       "      <td>-0.422343</td>\n",
       "      <td>0.017403</td>\n",
       "    </tr>\n",
       "    <tr>\n",
       "      <th>8680</th>\n",
       "      <td>-0.796682</td>\n",
       "      <td>-1.275476</td>\n",
       "      <td>-0.444122</td>\n",
       "      <td>-1.194931</td>\n",
       "      <td>1.509080</td>\n",
       "      <td>-0.422343</td>\n",
       "      <td>-0.821923</td>\n",
       "    </tr>\n",
       "  </tbody>\n",
       "</table>\n",
       "<p>8681 rows × 7 columns</p>\n",
       "</div>"
      ],
      "text/plain": [
       "      customer_lifetime_value    income  monthly_premium_auto  \\\n",
       "0                   -0.772891  0.580587             -0.739390   \n",
       "1                    0.814984  0.332987              0.700041   \n",
       "2                   -0.007125 -1.275476              0.626224   \n",
       "3                   -0.765022  0.170350             -0.591756   \n",
       "4                    0.088618  0.799196             -0.739390   \n",
       "...                       ...       ...                   ...   \n",
       "8676                 2.464757  1.097326             -0.591756   \n",
       "8677                -0.720663 -0.562920             -0.370305   \n",
       "8678                 0.074125 -1.275476             -0.148854   \n",
       "8679                -0.026169 -0.551805              0.257139   \n",
       "8680                -0.796682 -1.275476             -0.444122   \n",
       "\n",
       "      months_since_last_claim  months_since_policy_inception  \\\n",
       "0                    1.684444                      -1.542542   \n",
       "1                    0.294401                      -0.357794   \n",
       "2                    0.294401                       0.611544   \n",
       "3                   -0.301332                      -0.142386   \n",
       "4                   -0.102754                       1.652686   \n",
       "...                       ...                            ...   \n",
       "8676                 0.294401                       1.473179   \n",
       "8677                -0.102754                      -0.716809   \n",
       "8678                -0.599198                      -0.393696   \n",
       "8679                 1.883022                      -1.614344   \n",
       "8680                -1.194931                       1.509080   \n",
       "\n",
       "      number_of_open_complaints  number_of_policies  \n",
       "0                     -0.422343           -0.821923  \n",
       "1                     -0.422343           -0.402260  \n",
       "2                     -0.422343            1.696056  \n",
       "3                     -0.422343           -0.821923  \n",
       "4                     -0.422343           -0.402260  \n",
       "...                         ...                 ...  \n",
       "8676                  -0.422343           -0.402260  \n",
       "8677                  -0.422343           -0.821923  \n",
       "8678                   2.863906           -0.402260  \n",
       "8679                  -0.422343            0.017403  \n",
       "8680                  -0.422343           -0.821923  \n",
       "\n",
       "[8681 rows x 7 columns]"
      ]
     },
     "execution_count": 209,
     "metadata": {},
     "output_type": "execute_result"
    }
   ],
   "source": [
    "x_num = x.select_dtypes(np.number)\n",
    "\n",
    "scaler = StandardScaler()\n",
    "scaler.fit(x_num)\n",
    "\n",
    "x_num_scaled = scaler.transform(x_num)\n",
    "x_num_scaled = pd.DataFrame(x_num_scaled, columns = x_num.columns)\n",
    "x_num_scaled"
   ]
  },
  {
   "cell_type": "markdown",
   "id": "00dc0aee",
   "metadata": {},
   "source": [
    "## Encoding Categorical Data"
   ]
  },
  {
   "cell_type": "code",
   "execution_count": 210,
   "id": "ee5e406e",
   "metadata": {},
   "outputs": [
    {
     "data": {
      "text/plain": [
       "Index(['state', 'response', 'coverage', 'education', 'employmentstatus',\n",
       "       'gender', 'location_code', 'marital_status', 'policy_type', 'policy',\n",
       "       'renew_offer_type', 'sales_channel', 'vehicle_class', 'vehicle_size'],\n",
       "      dtype='object')"
      ]
     },
     "execution_count": 210,
     "metadata": {},
     "output_type": "execute_result"
    }
   ],
   "source": [
    "x_cat = x.select_dtypes('object')\n",
    "x_cat.columns"
   ]
  },
  {
   "cell_type": "code",
   "execution_count": 211,
   "id": "d271ec52",
   "metadata": {},
   "outputs": [
    {
     "data": {
      "text/html": [
       "<div>\n",
       "<style scoped>\n",
       "    .dataframe tbody tr th:only-of-type {\n",
       "        vertical-align: middle;\n",
       "    }\n",
       "\n",
       "    .dataframe tbody tr th {\n",
       "        vertical-align: top;\n",
       "    }\n",
       "\n",
       "    .dataframe thead th {\n",
       "        text-align: right;\n",
       "    }\n",
       "</style>\n",
       "<table border=\"1\" class=\"dataframe\">\n",
       "  <thead>\n",
       "    <tr style=\"text-align: right;\">\n",
       "      <th></th>\n",
       "      <th>state_California</th>\n",
       "      <th>state_Nevada</th>\n",
       "      <th>state_Oregon</th>\n",
       "      <th>state_Washington</th>\n",
       "      <th>response_Yes</th>\n",
       "      <th>coverage_Extended</th>\n",
       "      <th>coverage_Premium</th>\n",
       "      <th>education_College</th>\n",
       "      <th>education_Doctor</th>\n",
       "      <th>education_High School or Below</th>\n",
       "      <th>...</th>\n",
       "      <th>sales_channel_Branch</th>\n",
       "      <th>sales_channel_Call Center</th>\n",
       "      <th>sales_channel_Web</th>\n",
       "      <th>vehicle_class_Luxury Car</th>\n",
       "      <th>vehicle_class_Luxury SUV</th>\n",
       "      <th>vehicle_class_SUV</th>\n",
       "      <th>vehicle_class_Sports Car</th>\n",
       "      <th>vehicle_class_Two-Door Car</th>\n",
       "      <th>vehicle_size_Medsize</th>\n",
       "      <th>vehicle_size_Small</th>\n",
       "    </tr>\n",
       "  </thead>\n",
       "  <tbody>\n",
       "    <tr>\n",
       "      <th>0</th>\n",
       "      <td>0</td>\n",
       "      <td>0</td>\n",
       "      <td>0</td>\n",
       "      <td>1</td>\n",
       "      <td>0</td>\n",
       "      <td>0</td>\n",
       "      <td>0</td>\n",
       "      <td>0</td>\n",
       "      <td>0</td>\n",
       "      <td>0</td>\n",
       "      <td>...</td>\n",
       "      <td>0</td>\n",
       "      <td>0</td>\n",
       "      <td>0</td>\n",
       "      <td>0</td>\n",
       "      <td>0</td>\n",
       "      <td>0</td>\n",
       "      <td>0</td>\n",
       "      <td>1</td>\n",
       "      <td>1</td>\n",
       "      <td>0</td>\n",
       "    </tr>\n",
       "    <tr>\n",
       "      <th>1</th>\n",
       "      <td>0</td>\n",
       "      <td>1</td>\n",
       "      <td>0</td>\n",
       "      <td>0</td>\n",
       "      <td>0</td>\n",
       "      <td>0</td>\n",
       "      <td>1</td>\n",
       "      <td>0</td>\n",
       "      <td>0</td>\n",
       "      <td>0</td>\n",
       "      <td>...</td>\n",
       "      <td>0</td>\n",
       "      <td>0</td>\n",
       "      <td>0</td>\n",
       "      <td>0</td>\n",
       "      <td>0</td>\n",
       "      <td>0</td>\n",
       "      <td>0</td>\n",
       "      <td>1</td>\n",
       "      <td>1</td>\n",
       "      <td>0</td>\n",
       "    </tr>\n",
       "    <tr>\n",
       "      <th>2</th>\n",
       "      <td>1</td>\n",
       "      <td>0</td>\n",
       "      <td>0</td>\n",
       "      <td>0</td>\n",
       "      <td>0</td>\n",
       "      <td>0</td>\n",
       "      <td>0</td>\n",
       "      <td>0</td>\n",
       "      <td>0</td>\n",
       "      <td>0</td>\n",
       "      <td>...</td>\n",
       "      <td>0</td>\n",
       "      <td>1</td>\n",
       "      <td>0</td>\n",
       "      <td>0</td>\n",
       "      <td>0</td>\n",
       "      <td>1</td>\n",
       "      <td>0</td>\n",
       "      <td>0</td>\n",
       "      <td>1</td>\n",
       "      <td>0</td>\n",
       "    </tr>\n",
       "    <tr>\n",
       "      <th>3</th>\n",
       "      <td>0</td>\n",
       "      <td>0</td>\n",
       "      <td>0</td>\n",
       "      <td>1</td>\n",
       "      <td>0</td>\n",
       "      <td>0</td>\n",
       "      <td>0</td>\n",
       "      <td>0</td>\n",
       "      <td>0</td>\n",
       "      <td>0</td>\n",
       "      <td>...</td>\n",
       "      <td>0</td>\n",
       "      <td>0</td>\n",
       "      <td>0</td>\n",
       "      <td>0</td>\n",
       "      <td>0</td>\n",
       "      <td>0</td>\n",
       "      <td>0</td>\n",
       "      <td>0</td>\n",
       "      <td>1</td>\n",
       "      <td>0</td>\n",
       "    </tr>\n",
       "    <tr>\n",
       "      <th>4</th>\n",
       "      <td>0</td>\n",
       "      <td>0</td>\n",
       "      <td>1</td>\n",
       "      <td>0</td>\n",
       "      <td>1</td>\n",
       "      <td>0</td>\n",
       "      <td>0</td>\n",
       "      <td>0</td>\n",
       "      <td>0</td>\n",
       "      <td>0</td>\n",
       "      <td>...</td>\n",
       "      <td>0</td>\n",
       "      <td>0</td>\n",
       "      <td>1</td>\n",
       "      <td>0</td>\n",
       "      <td>0</td>\n",
       "      <td>0</td>\n",
       "      <td>0</td>\n",
       "      <td>1</td>\n",
       "      <td>1</td>\n",
       "      <td>0</td>\n",
       "    </tr>\n",
       "    <tr>\n",
       "      <th>...</th>\n",
       "      <td>...</td>\n",
       "      <td>...</td>\n",
       "      <td>...</td>\n",
       "      <td>...</td>\n",
       "      <td>...</td>\n",
       "      <td>...</td>\n",
       "      <td>...</td>\n",
       "      <td>...</td>\n",
       "      <td>...</td>\n",
       "      <td>...</td>\n",
       "      <td>...</td>\n",
       "      <td>...</td>\n",
       "      <td>...</td>\n",
       "      <td>...</td>\n",
       "      <td>...</td>\n",
       "      <td>...</td>\n",
       "      <td>...</td>\n",
       "      <td>...</td>\n",
       "      <td>...</td>\n",
       "      <td>...</td>\n",
       "      <td>...</td>\n",
       "    </tr>\n",
       "    <tr>\n",
       "      <th>8676</th>\n",
       "      <td>1</td>\n",
       "      <td>0</td>\n",
       "      <td>0</td>\n",
       "      <td>0</td>\n",
       "      <td>0</td>\n",
       "      <td>0</td>\n",
       "      <td>0</td>\n",
       "      <td>0</td>\n",
       "      <td>0</td>\n",
       "      <td>0</td>\n",
       "      <td>...</td>\n",
       "      <td>0</td>\n",
       "      <td>0</td>\n",
       "      <td>1</td>\n",
       "      <td>0</td>\n",
       "      <td>0</td>\n",
       "      <td>0</td>\n",
       "      <td>0</td>\n",
       "      <td>0</td>\n",
       "      <td>1</td>\n",
       "      <td>0</td>\n",
       "    </tr>\n",
       "    <tr>\n",
       "      <th>8677</th>\n",
       "      <td>1</td>\n",
       "      <td>0</td>\n",
       "      <td>0</td>\n",
       "      <td>0</td>\n",
       "      <td>1</td>\n",
       "      <td>1</td>\n",
       "      <td>0</td>\n",
       "      <td>1</td>\n",
       "      <td>0</td>\n",
       "      <td>0</td>\n",
       "      <td>...</td>\n",
       "      <td>1</td>\n",
       "      <td>0</td>\n",
       "      <td>0</td>\n",
       "      <td>0</td>\n",
       "      <td>0</td>\n",
       "      <td>0</td>\n",
       "      <td>0</td>\n",
       "      <td>0</td>\n",
       "      <td>1</td>\n",
       "      <td>0</td>\n",
       "    </tr>\n",
       "    <tr>\n",
       "      <th>8678</th>\n",
       "      <td>1</td>\n",
       "      <td>0</td>\n",
       "      <td>0</td>\n",
       "      <td>0</td>\n",
       "      <td>0</td>\n",
       "      <td>1</td>\n",
       "      <td>0</td>\n",
       "      <td>0</td>\n",
       "      <td>0</td>\n",
       "      <td>0</td>\n",
       "      <td>...</td>\n",
       "      <td>1</td>\n",
       "      <td>0</td>\n",
       "      <td>0</td>\n",
       "      <td>0</td>\n",
       "      <td>0</td>\n",
       "      <td>0</td>\n",
       "      <td>0</td>\n",
       "      <td>0</td>\n",
       "      <td>1</td>\n",
       "      <td>0</td>\n",
       "    </tr>\n",
       "    <tr>\n",
       "      <th>8679</th>\n",
       "      <td>1</td>\n",
       "      <td>0</td>\n",
       "      <td>0</td>\n",
       "      <td>0</td>\n",
       "      <td>0</td>\n",
       "      <td>1</td>\n",
       "      <td>0</td>\n",
       "      <td>1</td>\n",
       "      <td>0</td>\n",
       "      <td>0</td>\n",
       "      <td>...</td>\n",
       "      <td>1</td>\n",
       "      <td>0</td>\n",
       "      <td>0</td>\n",
       "      <td>0</td>\n",
       "      <td>0</td>\n",
       "      <td>0</td>\n",
       "      <td>0</td>\n",
       "      <td>0</td>\n",
       "      <td>0</td>\n",
       "      <td>0</td>\n",
       "    </tr>\n",
       "    <tr>\n",
       "      <th>8680</th>\n",
       "      <td>1</td>\n",
       "      <td>0</td>\n",
       "      <td>0</td>\n",
       "      <td>0</td>\n",
       "      <td>0</td>\n",
       "      <td>1</td>\n",
       "      <td>0</td>\n",
       "      <td>1</td>\n",
       "      <td>0</td>\n",
       "      <td>0</td>\n",
       "      <td>...</td>\n",
       "      <td>0</td>\n",
       "      <td>1</td>\n",
       "      <td>0</td>\n",
       "      <td>0</td>\n",
       "      <td>0</td>\n",
       "      <td>0</td>\n",
       "      <td>0</td>\n",
       "      <td>1</td>\n",
       "      <td>1</td>\n",
       "      <td>0</td>\n",
       "    </tr>\n",
       "  </tbody>\n",
       "</table>\n",
       "<p>8681 rows × 37 columns</p>\n",
       "</div>"
      ],
      "text/plain": [
       "      state_California  state_Nevada  state_Oregon  state_Washington  \\\n",
       "0                    0             0             0                 1   \n",
       "1                    0             1             0                 0   \n",
       "2                    1             0             0                 0   \n",
       "3                    0             0             0                 1   \n",
       "4                    0             0             1                 0   \n",
       "...                ...           ...           ...               ...   \n",
       "8676                 1             0             0                 0   \n",
       "8677                 1             0             0                 0   \n",
       "8678                 1             0             0                 0   \n",
       "8679                 1             0             0                 0   \n",
       "8680                 1             0             0                 0   \n",
       "\n",
       "      response_Yes  coverage_Extended  coverage_Premium  education_College  \\\n",
       "0                0                  0                 0                  0   \n",
       "1                0                  0                 1                  0   \n",
       "2                0                  0                 0                  0   \n",
       "3                0                  0                 0                  0   \n",
       "4                1                  0                 0                  0   \n",
       "...            ...                ...               ...                ...   \n",
       "8676             0                  0                 0                  0   \n",
       "8677             1                  1                 0                  1   \n",
       "8678             0                  1                 0                  0   \n",
       "8679             0                  1                 0                  1   \n",
       "8680             0                  1                 0                  1   \n",
       "\n",
       "      education_Doctor  education_High School or Below  ...  \\\n",
       "0                    0                               0  ...   \n",
       "1                    0                               0  ...   \n",
       "2                    0                               0  ...   \n",
       "3                    0                               0  ...   \n",
       "4                    0                               0  ...   \n",
       "...                ...                             ...  ...   \n",
       "8676                 0                               0  ...   \n",
       "8677                 0                               0  ...   \n",
       "8678                 0                               0  ...   \n",
       "8679                 0                               0  ...   \n",
       "8680                 0                               0  ...   \n",
       "\n",
       "      sales_channel_Branch  sales_channel_Call Center  sales_channel_Web  \\\n",
       "0                        0                          0                  0   \n",
       "1                        0                          0                  0   \n",
       "2                        0                          1                  0   \n",
       "3                        0                          0                  0   \n",
       "4                        0                          0                  1   \n",
       "...                    ...                        ...                ...   \n",
       "8676                     0                          0                  1   \n",
       "8677                     1                          0                  0   \n",
       "8678                     1                          0                  0   \n",
       "8679                     1                          0                  0   \n",
       "8680                     0                          1                  0   \n",
       "\n",
       "      vehicle_class_Luxury Car  vehicle_class_Luxury SUV  vehicle_class_SUV  \\\n",
       "0                            0                         0                  0   \n",
       "1                            0                         0                  0   \n",
       "2                            0                         0                  1   \n",
       "3                            0                         0                  0   \n",
       "4                            0                         0                  0   \n",
       "...                        ...                       ...                ...   \n",
       "8676                         0                         0                  0   \n",
       "8677                         0                         0                  0   \n",
       "8678                         0                         0                  0   \n",
       "8679                         0                         0                  0   \n",
       "8680                         0                         0                  0   \n",
       "\n",
       "      vehicle_class_Sports Car  vehicle_class_Two-Door Car  \\\n",
       "0                            0                           1   \n",
       "1                            0                           1   \n",
       "2                            0                           0   \n",
       "3                            0                           0   \n",
       "4                            0                           1   \n",
       "...                        ...                         ...   \n",
       "8676                         0                           0   \n",
       "8677                         0                           0   \n",
       "8678                         0                           0   \n",
       "8679                         0                           0   \n",
       "8680                         0                           1   \n",
       "\n",
       "      vehicle_size_Medsize  vehicle_size_Small  \n",
       "0                        1                   0  \n",
       "1                        1                   0  \n",
       "2                        1                   0  \n",
       "3                        1                   0  \n",
       "4                        1                   0  \n",
       "...                    ...                 ...  \n",
       "8676                     1                   0  \n",
       "8677                     1                   0  \n",
       "8678                     1                   0  \n",
       "8679                     0                   0  \n",
       "8680                     1                   0  \n",
       "\n",
       "[8681 rows x 37 columns]"
      ]
     },
     "execution_count": 211,
     "metadata": {},
     "output_type": "execute_result"
    }
   ],
   "source": [
    "x_cat_dummy = pd.get_dummies(x_cat, drop_first=True)\n",
    "x_cat_dummy"
   ]
  },
  {
   "cell_type": "markdown",
   "id": "cadf9ab6",
   "metadata": {},
   "source": [
    "## Splitting into train set and test set"
   ]
  },
  {
   "cell_type": "code",
   "execution_count": 212,
   "id": "af06bbd9",
   "metadata": {},
   "outputs": [
    {
     "data": {
      "text/html": [
       "<div>\n",
       "<style scoped>\n",
       "    .dataframe tbody tr th:only-of-type {\n",
       "        vertical-align: middle;\n",
       "    }\n",
       "\n",
       "    .dataframe tbody tr th {\n",
       "        vertical-align: top;\n",
       "    }\n",
       "\n",
       "    .dataframe thead th {\n",
       "        text-align: right;\n",
       "    }\n",
       "</style>\n",
       "<table border=\"1\" class=\"dataframe\">\n",
       "  <thead>\n",
       "    <tr style=\"text-align: right;\">\n",
       "      <th></th>\n",
       "      <th>customer_lifetime_value</th>\n",
       "      <th>income</th>\n",
       "      <th>monthly_premium_auto</th>\n",
       "      <th>months_since_last_claim</th>\n",
       "      <th>months_since_policy_inception</th>\n",
       "      <th>number_of_open_complaints</th>\n",
       "      <th>number_of_policies</th>\n",
       "      <th>state_California</th>\n",
       "      <th>state_Nevada</th>\n",
       "      <th>state_Oregon</th>\n",
       "      <th>...</th>\n",
       "      <th>sales_channel_Branch</th>\n",
       "      <th>sales_channel_Call Center</th>\n",
       "      <th>sales_channel_Web</th>\n",
       "      <th>vehicle_class_Luxury Car</th>\n",
       "      <th>vehicle_class_Luxury SUV</th>\n",
       "      <th>vehicle_class_SUV</th>\n",
       "      <th>vehicle_class_Sports Car</th>\n",
       "      <th>vehicle_class_Two-Door Car</th>\n",
       "      <th>vehicle_size_Medsize</th>\n",
       "      <th>vehicle_size_Small</th>\n",
       "    </tr>\n",
       "  </thead>\n",
       "  <tbody>\n",
       "    <tr>\n",
       "      <th>0</th>\n",
       "      <td>-0.772891</td>\n",
       "      <td>0.580587</td>\n",
       "      <td>-0.739390</td>\n",
       "      <td>1.684444</td>\n",
       "      <td>-1.542542</td>\n",
       "      <td>-0.422343</td>\n",
       "      <td>-0.821923</td>\n",
       "      <td>0</td>\n",
       "      <td>0</td>\n",
       "      <td>0</td>\n",
       "      <td>...</td>\n",
       "      <td>0</td>\n",
       "      <td>0</td>\n",
       "      <td>0</td>\n",
       "      <td>0</td>\n",
       "      <td>0</td>\n",
       "      <td>0</td>\n",
       "      <td>0</td>\n",
       "      <td>1</td>\n",
       "      <td>1</td>\n",
       "      <td>0</td>\n",
       "    </tr>\n",
       "    <tr>\n",
       "      <th>1</th>\n",
       "      <td>0.814984</td>\n",
       "      <td>0.332987</td>\n",
       "      <td>0.700041</td>\n",
       "      <td>0.294401</td>\n",
       "      <td>-0.357794</td>\n",
       "      <td>-0.422343</td>\n",
       "      <td>-0.402260</td>\n",
       "      <td>0</td>\n",
       "      <td>1</td>\n",
       "      <td>0</td>\n",
       "      <td>...</td>\n",
       "      <td>0</td>\n",
       "      <td>0</td>\n",
       "      <td>0</td>\n",
       "      <td>0</td>\n",
       "      <td>0</td>\n",
       "      <td>0</td>\n",
       "      <td>0</td>\n",
       "      <td>1</td>\n",
       "      <td>1</td>\n",
       "      <td>0</td>\n",
       "    </tr>\n",
       "    <tr>\n",
       "      <th>2</th>\n",
       "      <td>-0.007125</td>\n",
       "      <td>-1.275476</td>\n",
       "      <td>0.626224</td>\n",
       "      <td>0.294401</td>\n",
       "      <td>0.611544</td>\n",
       "      <td>-0.422343</td>\n",
       "      <td>1.696056</td>\n",
       "      <td>1</td>\n",
       "      <td>0</td>\n",
       "      <td>0</td>\n",
       "      <td>...</td>\n",
       "      <td>0</td>\n",
       "      <td>1</td>\n",
       "      <td>0</td>\n",
       "      <td>0</td>\n",
       "      <td>0</td>\n",
       "      <td>1</td>\n",
       "      <td>0</td>\n",
       "      <td>0</td>\n",
       "      <td>1</td>\n",
       "      <td>0</td>\n",
       "    </tr>\n",
       "    <tr>\n",
       "      <th>3</th>\n",
       "      <td>-0.765022</td>\n",
       "      <td>0.170350</td>\n",
       "      <td>-0.591756</td>\n",
       "      <td>-0.301332</td>\n",
       "      <td>-0.142386</td>\n",
       "      <td>-0.422343</td>\n",
       "      <td>-0.821923</td>\n",
       "      <td>0</td>\n",
       "      <td>0</td>\n",
       "      <td>0</td>\n",
       "      <td>...</td>\n",
       "      <td>0</td>\n",
       "      <td>0</td>\n",
       "      <td>0</td>\n",
       "      <td>0</td>\n",
       "      <td>0</td>\n",
       "      <td>0</td>\n",
       "      <td>0</td>\n",
       "      <td>0</td>\n",
       "      <td>1</td>\n",
       "      <td>0</td>\n",
       "    </tr>\n",
       "    <tr>\n",
       "      <th>4</th>\n",
       "      <td>0.088618</td>\n",
       "      <td>0.799196</td>\n",
       "      <td>-0.739390</td>\n",
       "      <td>-0.102754</td>\n",
       "      <td>1.652686</td>\n",
       "      <td>-0.422343</td>\n",
       "      <td>-0.402260</td>\n",
       "      <td>0</td>\n",
       "      <td>0</td>\n",
       "      <td>1</td>\n",
       "      <td>...</td>\n",
       "      <td>0</td>\n",
       "      <td>0</td>\n",
       "      <td>1</td>\n",
       "      <td>0</td>\n",
       "      <td>0</td>\n",
       "      <td>0</td>\n",
       "      <td>0</td>\n",
       "      <td>1</td>\n",
       "      <td>1</td>\n",
       "      <td>0</td>\n",
       "    </tr>\n",
       "    <tr>\n",
       "      <th>...</th>\n",
       "      <td>...</td>\n",
       "      <td>...</td>\n",
       "      <td>...</td>\n",
       "      <td>...</td>\n",
       "      <td>...</td>\n",
       "      <td>...</td>\n",
       "      <td>...</td>\n",
       "      <td>...</td>\n",
       "      <td>...</td>\n",
       "      <td>...</td>\n",
       "      <td>...</td>\n",
       "      <td>...</td>\n",
       "      <td>...</td>\n",
       "      <td>...</td>\n",
       "      <td>...</td>\n",
       "      <td>...</td>\n",
       "      <td>...</td>\n",
       "      <td>...</td>\n",
       "      <td>...</td>\n",
       "      <td>...</td>\n",
       "      <td>...</td>\n",
       "    </tr>\n",
       "    <tr>\n",
       "      <th>8676</th>\n",
       "      <td>2.464757</td>\n",
       "      <td>1.097326</td>\n",
       "      <td>-0.591756</td>\n",
       "      <td>0.294401</td>\n",
       "      <td>1.473179</td>\n",
       "      <td>-0.422343</td>\n",
       "      <td>-0.402260</td>\n",
       "      <td>1</td>\n",
       "      <td>0</td>\n",
       "      <td>0</td>\n",
       "      <td>...</td>\n",
       "      <td>0</td>\n",
       "      <td>0</td>\n",
       "      <td>1</td>\n",
       "      <td>0</td>\n",
       "      <td>0</td>\n",
       "      <td>0</td>\n",
       "      <td>0</td>\n",
       "      <td>0</td>\n",
       "      <td>1</td>\n",
       "      <td>0</td>\n",
       "    </tr>\n",
       "    <tr>\n",
       "      <th>8677</th>\n",
       "      <td>-0.720663</td>\n",
       "      <td>-0.562920</td>\n",
       "      <td>-0.370305</td>\n",
       "      <td>-0.102754</td>\n",
       "      <td>-0.716809</td>\n",
       "      <td>-0.422343</td>\n",
       "      <td>-0.821923</td>\n",
       "      <td>1</td>\n",
       "      <td>0</td>\n",
       "      <td>0</td>\n",
       "      <td>...</td>\n",
       "      <td>1</td>\n",
       "      <td>0</td>\n",
       "      <td>0</td>\n",
       "      <td>0</td>\n",
       "      <td>0</td>\n",
       "      <td>0</td>\n",
       "      <td>0</td>\n",
       "      <td>0</td>\n",
       "      <td>1</td>\n",
       "      <td>0</td>\n",
       "    </tr>\n",
       "    <tr>\n",
       "      <th>8678</th>\n",
       "      <td>0.074125</td>\n",
       "      <td>-1.275476</td>\n",
       "      <td>-0.148854</td>\n",
       "      <td>-0.599198</td>\n",
       "      <td>-0.393696</td>\n",
       "      <td>2.863906</td>\n",
       "      <td>-0.402260</td>\n",
       "      <td>1</td>\n",
       "      <td>0</td>\n",
       "      <td>0</td>\n",
       "      <td>...</td>\n",
       "      <td>1</td>\n",
       "      <td>0</td>\n",
       "      <td>0</td>\n",
       "      <td>0</td>\n",
       "      <td>0</td>\n",
       "      <td>0</td>\n",
       "      <td>0</td>\n",
       "      <td>0</td>\n",
       "      <td>1</td>\n",
       "      <td>0</td>\n",
       "    </tr>\n",
       "    <tr>\n",
       "      <th>8679</th>\n",
       "      <td>-0.026169</td>\n",
       "      <td>-0.551805</td>\n",
       "      <td>0.257139</td>\n",
       "      <td>1.883022</td>\n",
       "      <td>-1.614344</td>\n",
       "      <td>-0.422343</td>\n",
       "      <td>0.017403</td>\n",
       "      <td>1</td>\n",
       "      <td>0</td>\n",
       "      <td>0</td>\n",
       "      <td>...</td>\n",
       "      <td>1</td>\n",
       "      <td>0</td>\n",
       "      <td>0</td>\n",
       "      <td>0</td>\n",
       "      <td>0</td>\n",
       "      <td>0</td>\n",
       "      <td>0</td>\n",
       "      <td>0</td>\n",
       "      <td>0</td>\n",
       "      <td>0</td>\n",
       "    </tr>\n",
       "    <tr>\n",
       "      <th>8680</th>\n",
       "      <td>-0.796682</td>\n",
       "      <td>-1.275476</td>\n",
       "      <td>-0.444122</td>\n",
       "      <td>-1.194931</td>\n",
       "      <td>1.509080</td>\n",
       "      <td>-0.422343</td>\n",
       "      <td>-0.821923</td>\n",
       "      <td>1</td>\n",
       "      <td>0</td>\n",
       "      <td>0</td>\n",
       "      <td>...</td>\n",
       "      <td>0</td>\n",
       "      <td>1</td>\n",
       "      <td>0</td>\n",
       "      <td>0</td>\n",
       "      <td>0</td>\n",
       "      <td>0</td>\n",
       "      <td>0</td>\n",
       "      <td>1</td>\n",
       "      <td>1</td>\n",
       "      <td>0</td>\n",
       "    </tr>\n",
       "  </tbody>\n",
       "</table>\n",
       "<p>8681 rows × 44 columns</p>\n",
       "</div>"
      ],
      "text/plain": [
       "      customer_lifetime_value    income  monthly_premium_auto  \\\n",
       "0                   -0.772891  0.580587             -0.739390   \n",
       "1                    0.814984  0.332987              0.700041   \n",
       "2                   -0.007125 -1.275476              0.626224   \n",
       "3                   -0.765022  0.170350             -0.591756   \n",
       "4                    0.088618  0.799196             -0.739390   \n",
       "...                       ...       ...                   ...   \n",
       "8676                 2.464757  1.097326             -0.591756   \n",
       "8677                -0.720663 -0.562920             -0.370305   \n",
       "8678                 0.074125 -1.275476             -0.148854   \n",
       "8679                -0.026169 -0.551805              0.257139   \n",
       "8680                -0.796682 -1.275476             -0.444122   \n",
       "\n",
       "      months_since_last_claim  months_since_policy_inception  \\\n",
       "0                    1.684444                      -1.542542   \n",
       "1                    0.294401                      -0.357794   \n",
       "2                    0.294401                       0.611544   \n",
       "3                   -0.301332                      -0.142386   \n",
       "4                   -0.102754                       1.652686   \n",
       "...                       ...                            ...   \n",
       "8676                 0.294401                       1.473179   \n",
       "8677                -0.102754                      -0.716809   \n",
       "8678                -0.599198                      -0.393696   \n",
       "8679                 1.883022                      -1.614344   \n",
       "8680                -1.194931                       1.509080   \n",
       "\n",
       "      number_of_open_complaints  number_of_policies  state_California  \\\n",
       "0                     -0.422343           -0.821923                 0   \n",
       "1                     -0.422343           -0.402260                 0   \n",
       "2                     -0.422343            1.696056                 1   \n",
       "3                     -0.422343           -0.821923                 0   \n",
       "4                     -0.422343           -0.402260                 0   \n",
       "...                         ...                 ...               ...   \n",
       "8676                  -0.422343           -0.402260                 1   \n",
       "8677                  -0.422343           -0.821923                 1   \n",
       "8678                   2.863906           -0.402260                 1   \n",
       "8679                  -0.422343            0.017403                 1   \n",
       "8680                  -0.422343           -0.821923                 1   \n",
       "\n",
       "      state_Nevada  state_Oregon  ...  sales_channel_Branch  \\\n",
       "0                0             0  ...                     0   \n",
       "1                1             0  ...                     0   \n",
       "2                0             0  ...                     0   \n",
       "3                0             0  ...                     0   \n",
       "4                0             1  ...                     0   \n",
       "...            ...           ...  ...                   ...   \n",
       "8676             0             0  ...                     0   \n",
       "8677             0             0  ...                     1   \n",
       "8678             0             0  ...                     1   \n",
       "8679             0             0  ...                     1   \n",
       "8680             0             0  ...                     0   \n",
       "\n",
       "      sales_channel_Call Center  sales_channel_Web  vehicle_class_Luxury Car  \\\n",
       "0                             0                  0                         0   \n",
       "1                             0                  0                         0   \n",
       "2                             1                  0                         0   \n",
       "3                             0                  0                         0   \n",
       "4                             0                  1                         0   \n",
       "...                         ...                ...                       ...   \n",
       "8676                          0                  1                         0   \n",
       "8677                          0                  0                         0   \n",
       "8678                          0                  0                         0   \n",
       "8679                          0                  0                         0   \n",
       "8680                          1                  0                         0   \n",
       "\n",
       "      vehicle_class_Luxury SUV  vehicle_class_SUV  vehicle_class_Sports Car  \\\n",
       "0                            0                  0                         0   \n",
       "1                            0                  0                         0   \n",
       "2                            0                  1                         0   \n",
       "3                            0                  0                         0   \n",
       "4                            0                  0                         0   \n",
       "...                        ...                ...                       ...   \n",
       "8676                         0                  0                         0   \n",
       "8677                         0                  0                         0   \n",
       "8678                         0                  0                         0   \n",
       "8679                         0                  0                         0   \n",
       "8680                         0                  0                         0   \n",
       "\n",
       "      vehicle_class_Two-Door Car  vehicle_size_Medsize  vehicle_size_Small  \n",
       "0                              1                     1                   0  \n",
       "1                              1                     1                   0  \n",
       "2                              0                     1                   0  \n",
       "3                              0                     1                   0  \n",
       "4                              1                     1                   0  \n",
       "...                          ...                   ...                 ...  \n",
       "8676                           0                     1                   0  \n",
       "8677                           0                     1                   0  \n",
       "8678                           0                     1                   0  \n",
       "8679                           0                     0                   0  \n",
       "8680                           1                     1                   0  \n",
       "\n",
       "[8681 rows x 44 columns]"
      ]
     },
     "execution_count": 212,
     "metadata": {},
     "output_type": "execute_result"
    }
   ],
   "source": [
    "x_concat = pd.concat([x_num_scaled, x_cat_dummy], axis=1)\n",
    "x_concat"
   ]
  },
  {
   "cell_type": "code",
   "execution_count": 213,
   "id": "00b3c1c1",
   "metadata": {},
   "outputs": [],
   "source": [
    "x_train, x_test, y_train, y_test = train_test_split(x_concat, y, test_size=0.3, random_state=42)"
   ]
  },
  {
   "cell_type": "markdown",
   "id": "a2a083c5",
   "metadata": {},
   "source": [
    "# 05 - Modeling"
   ]
  },
  {
   "cell_type": "markdown",
   "id": "96e7d105",
   "metadata": {},
   "source": [
    "## Apply model\n"
   ]
  },
  {
   "cell_type": "code",
   "execution_count": 214,
   "id": "e5cfc74b",
   "metadata": {},
   "outputs": [],
   "source": [
    "lm = LinearRegression()\n",
    "lm.fit(x_train, y_train)\n",
    "predictions = lm.predict(x_test)"
   ]
  },
  {
   "cell_type": "markdown",
   "id": "2b82367e",
   "metadata": {},
   "source": [
    "# 06 - Model Validation"
   ]
  },
  {
   "cell_type": "markdown",
   "id": "f27eed3d",
   "metadata": {},
   "source": [
    "## R2"
   ]
  },
  {
   "cell_type": "code",
   "execution_count": 215,
   "id": "d5055e90",
   "metadata": {},
   "outputs": [
    {
     "name": "stdout",
     "output_type": "stream",
     "text": [
      "R2_score: 0.78\n"
     ]
    }
   ],
   "source": [
    "print(\"R2_score:\", round(r2_score(y_test, predictions), 2))"
   ]
  },
  {
   "cell_type": "markdown",
   "id": "ddd8fb50",
   "metadata": {},
   "source": [
    "## MSE"
   ]
  },
  {
   "cell_type": "code",
   "execution_count": 216,
   "id": "5e12ea98",
   "metadata": {},
   "outputs": [
    {
     "name": "stdout",
     "output_type": "stream",
     "text": [
      "MSE: 9946.987220541945\n"
     ]
    }
   ],
   "source": [
    "mse = mean_squared_error(y_test, predictions)\n",
    "print(\"MSE:\", mse)"
   ]
  },
  {
   "cell_type": "markdown",
   "id": "3a89f27f",
   "metadata": {},
   "source": [
    "## RMSE"
   ]
  },
  {
   "cell_type": "code",
   "execution_count": 217,
   "id": "0d476fbb",
   "metadata": {},
   "outputs": [
    {
     "name": "stdout",
     "output_type": "stream",
     "text": [
      "RMSE: 99.73458387411031\n"
     ]
    }
   ],
   "source": [
    "rmse = mean_squared_error(y_test, predictions, squared=False)\n",
    "print(\"RMSE:\", rmse)"
   ]
  },
  {
   "cell_type": "markdown",
   "id": "608c9f16",
   "metadata": {},
   "source": [
    "## MAE"
   ]
  },
  {
   "cell_type": "code",
   "execution_count": 218,
   "id": "e9eb092d",
   "metadata": {},
   "outputs": [
    {
     "name": "stdout",
     "output_type": "stream",
     "text": [
      "MAE: 75.67931417010148\n"
     ]
    }
   ],
   "source": [
    "mae = mean_absolute_error(y_test, predictions)\n",
    "print(\"MAE:\", mae)"
   ]
  },
  {
   "cell_type": "markdown",
   "id": "65f0fc8a",
   "metadata": {},
   "source": [
    "# 07 - Reporting"
   ]
  },
  {
   "cell_type": "markdown",
   "id": "af80f42a",
   "metadata": {},
   "source": [
    "## Present results"
   ]
  },
  {
   "cell_type": "markdown",
   "id": "206d1183",
   "metadata": {},
   "source": [
    "This linear regression model achieved good results with the test data, with an R2 Score of 78%, indicating a high degree of correlation between it's predictions and the true values in the test split.\n",
    "\n",
    "The regression plot below allows for a good visualization of this correlation."
   ]
  },
  {
   "cell_type": "code",
   "execution_count": 223,
   "id": "c9d943ba",
   "metadata": {
    "scrolled": true
   },
   "outputs": [
    {
     "data": {
      "image/png": "[encoded data removed]",
      "text/plain": [
       "<Figure size 640x480 with 1 Axes>"
      ]
     },
     "metadata": {},
     "output_type": "display_data"
    }
   ],
   "source": [
    "sns.regplot(x=y_test, y=predictions, scatter_kws={\"color\": \"blue\"}, line_kws={\"color\": \"red\"})\n",
    "plt.show()"
   ]
  },
  {
   "cell_type": "markdown",
   "id": "94480008",
   "metadata": {},
   "source": [
    "The MAE of 75 represents a low margin of error, less than 10% of the range of values in the test split (1-960)"
   ]
  },
  {
   "cell_type": "code",
   "execution_count": 231,
   "id": "bb6a38dd",
   "metadata": {},
   "outputs": [
    {
     "name": "stdout",
     "output_type": "stream",
     "text": [
      "MAE: 75.67931417010148\n"
     ]
    },
    {
     "data": {
      "text/plain": [
       "count    2605.000000\n",
       "mean      387.263904\n",
       "std       213.428820\n",
       "min         1.208908\n",
       "25%       242.842607\n",
       "50%       360.670642\n",
       "75%       525.600000\n",
       "max       960.115399\n",
       "Name: total_claim_amount, dtype: float64"
      ]
     },
     "execution_count": 231,
     "metadata": {},
     "output_type": "execute_result"
    }
   ],
   "source": [
    "print(\"MAE:\", mae)\n",
    "y_test.describe()"
   ]
  },
  {
   "cell_type": "markdown",
   "id": "2923c3cf",
   "metadata": {},
   "source": [
    "The RMSE of 99 being close to the MAE value shows a low count of large errors, indicating that big outliers were sucessfully cleaned from the test data."
   ]
  }
 ],
 "metadata": {
  "kernelspec": {
   "display_name": "Python 3 (ipykernel)",
   "language": "python",
   "name": "python3"
  },
  "language_info": {
   "codemirror_mode": {
    "name": "ipython",
    "version": 3
   },
   "file_extension": ".py",
   "mimetype": "text/x-python",
   "name": "python",
   "nbconvert_exporter": "python",
   "pygments_lexer": "ipython3",
   "version": "3.10.9"
  }
 },
 "nbformat": 4,
 "nbformat_minor": 5
}
